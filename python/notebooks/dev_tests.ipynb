{
 "cells": [
  {
   "cell_type": "code",
   "execution_count": 17,
   "metadata": {
    "collapsed": true
   },
   "outputs": [
    {
     "name": "stdout",
     "output_type": "stream",
     "text": [
      "{'__line__': 1, 'random.txt': {'common_c': 12.0, 'folderonlytablekey2 ': 'folderonlyValue2', 'folderonlytablekey1': 99.0, 'key2': 'value2', 'z': {'__line__': 34, 'y': {'__line__': 35, 'z': 99.0}}, 'common_a': 'c', 'istxtFile': True, 'onlytopFolder': True, 'common_d': 50.0, 'common_array': ['first', 'second'], '__line__': 19, 'secondFolderKey': 2.0, 'key1': 120.0, 's': {'__line__': 32, 'field2': 2.0, 'field3': 3.0, 'field4': 4.0, 'field1': 1.0}}, 'sub2/index.html': {'common_c': 5000.0, 'secondsub2FolderKey': 2.0, 'isDirectlyUnderSuFolder': True, 'onlysub2Folder': True, 'z': {'__line__': 82, 'y': {'__line__': 83, 'z': 99.0}}, 'common_a': 'c', '__line__': 70, 's': {'__line__': 79, 'field2': 2.0, 'field3': 3.0, 'field4': 4.0, 'field1': 1.0}, 'common_d': 'test', 'common_array': ['first', 'second'], 'sub2_bb': 'cc'}, 'matfile.m': {'common_c': 12.0, 'isMFileFromOnlyTop': True, 'folderonlytablekey1': 10000.0, 'key2': 'value3', 'z': {'__line__': 17, 'y': {'__line__': 18, 'z': 99.0}}, 'common_a': 'c', 'folderonlytablekey2 ': 'folderonlyValue3', 'isMFile': True, 'onlytopFolder': True, 'common_d': 50.0, 'common_array': ['first', 'second'], '__line__': 1, 'secondFolderKey': 2.0, 'key1': 10000.0, 's': {'__line__': 15, 'field2': 2.0, 'field3': 3.0, 'field4': 4.0, 'field1': 1.0}}, 'sub1/calculate_density_significance_of_many_dipoles_script.m': {'common_c': 'common_c_overwrite', 'isMFileFromSubFolder': True, 'isDirectlyUnderSuFolder': True, 'key2': 'value3', 'z': {'__line__': 56, 'y': {'__line__': 57, 'z': 99.0}}, 'common_a': 'c', '__line__': 37, 'isMFile': True, 's': {'__line__': 49, 'field5': 'fromTable5', 'field3': 'sometext', 'field1': 'fromTable1', 'field4': 4.0, 'field2': 2.0}, 'common_d': 50.0, 'common_array': ['first', 'second'], 'isMFileFromTable': 'true', 'sub1_aa': 'bb', 'key1': 10000.0}, 'sub2/group_normal/index2.htm': {'common_c': 5000.0, 'isUnderGroupFolder': True, 'z': {'__line__': 68, 'y': {'__line__': 69, 'z': 99.0}}, 'common_a': 'c', '__line__': 58, 's': {'__line__': 66, 'field2': 2.0, 'field3': 3.0, 'field4': 4.0, 'field1': 1.0}, 'common_d': 'test', 'common_array': ['first', 'second'], 'sub2_bb': 'cc'}, 'sub3/cfk.yaml': {'common_c': 12.0, 'isDirectlyUnderSuFolder': True, 'z': {'__line__': 93, 'y': {'__line__': 94, 'z': 99.0}}, 'common_a': 'c', '__line__': 84, 's': {'__line__': 92, 'field2': 2.0, 'field3': 3.0, 'field4': 4.0, 'field1': 1.0}, 'common_d': 50.0, 'common_array': ['first', 'second']}}\n"
     ]
    }
   ],
   "source": [
    "# associate line numbers tro YAML import\n",
    "import yaml\n",
    "from yaml.composer import Composer\n",
    "from yaml.constructor import Constructor\n",
    "\n",
    "loader = yaml.Loader(open('/home/nima/Documents/mycode/multi/qascade/unit_test/test1/correct_read.yaml').read())\n",
    "def compose_node(parent, index):\n",
    "    # the line number where the previous token has ended (plus empty lines)\n",
    "    line = loader.line\n",
    "    node = Composer.compose_node(loader, parent, index)\n",
    "    node.__line__ = line + 1\n",
    "    return node\n",
    "def construct_mapping(node, deep=False):\n",
    "    mapping = Constructor.construct_mapping(loader, node, deep=deep)\n",
    "    mapping['__line__'] = node.__line__\n",
    "    return mapping\n",
    "loader.compose_node = compose_node\n",
    "loader.construct_mapping = construct_mapping\n",
    "data = loader.get_single_data()\n",
    "print(data)"
   ]
  },
  {
   "cell_type": "code",
   "execution_count": 1,
   "metadata": {},
   "outputs": [],
   "source": [
    "%load_ext autoreload"
   ]
  },
  {
   "cell_type": "code",
   "execution_count": 2,
   "metadata": {
    "collapsed": true
   },
   "outputs": [],
   "source": [
    "import sys\n",
    "sys.path.append('/home/nima/Documents/mycode/multi/qascade/python')"
   ]
  },
  {
   "cell_type": "code",
   "execution_count": 3,
   "metadata": {
    "collapsed": true
   },
   "outputs": [],
   "source": [
    "import files_record"
   ]
  },
  {
   "cell_type": "code",
   "execution_count": 12,
   "metadata": {
    "collapsed": true
   },
   "outputs": [],
   "source": [
    "s = files_record.create_files_record('/home/nima/Documents/mycode/multi/qascade/unit_test/test3')"
   ]
  },
  {
   "cell_type": "code",
   "execution_count": 13,
   "metadata": {},
   "outputs": [
    {
     "data": {
      "text/plain": [
       "{'file_contents': {'container/manifest.qsc.yaml': 'KG1hdGNoZXMgKi5tKToKICAgaXNNRmlsZUZyb21Ub3A6IHRydWUKCihtYXRjaGVzICouKik6CiAgIGlzTUZpbGVGcm9tVG9wOiBmYWxzZQo=',\n",
       "  'container/sub1/manifest.qsc.yaml': 'KG1hdGNoZXMgKi5tKToKICAgaXNNRmlsZUZyb21Cb3R0b206IHRydWUKCihtYXRjaGVzICouKik6CiAgIGlzTUZpbGVGcm9tQm90dG9tOiBmYWxzZQo='},\n",
       " 'filenames': ['container/sub1/manifest.qsc.yaml',\n",
       "  'container/sub1/some_matlab_file.m',\n",
       "  'container/matfile.m',\n",
       "  'container/manifest.qsc.yaml']}"
      ]
     },
     "execution_count": 13,
     "metadata": {},
     "output_type": "execute_result"
    }
   ],
   "source": [
    "s"
   ]
  },
  {
   "cell_type": "code",
   "execution_count": 14,
   "metadata": {},
   "outputs": [],
   "source": [
    "import qascade"
   ]
  },
  {
   "cell_type": "code",
   "execution_count": 15,
   "metadata": {},
   "outputs": [
    {
     "name": "stdout",
     "output_type": "stream",
     "text": [
      "\n",
      "Processing folder: container\n",
      "folder:  /container,  folder (keys-value)s:  {\"(matches *.*)\": {\"isMFileFromTop\": false}, \"(matches *.m)\": {\"isMFileFromTop\": true}}\n",
      "\n",
      "\n",
      "\n",
      "Processing folder: sub1\n",
      "folder:  /container/sub1,  folder (keys-value)s:  {\"(matches *.*)\": {\"isMFileFromBottom\": false}, \"(matches *.m)\": {\"isMFileFromBottom\": true}}\n",
      "\n",
      "\n"
     ]
    }
   ],
   "source": [
    "files_dict_array = qascade.make_file_dicts(s)"
   ]
  },
  {
   "cell_type": "code",
   "execution_count": 16,
   "metadata": {},
   "outputs": [
    {
     "data": {
      "text/plain": [
       "{'manifest.qsc.yaml': [{'(matches *.*)': {'isMFileFromTop': False},\n",
       "   '(matches *.m)': {'isMFileFromTop': True}},\n",
       "  {'(matches *.*)': {'isMFileFromBottom': False},\n",
       "   '(matches *.m)': {'isMFileFromBottom': True}}],\n",
       " 'matfile.m': [{'(matches *.*)': {'isMFileFromTop': False},\n",
       "   '(matches *.m)': {'isMFileFromTop': True}}],\n",
       " 'some_matlab_file.m': [{'(matches *.*)': {'isMFileFromBottom': False},\n",
       "   '(matches *.m)': {'isMFileFromBottom': True}}]}"
      ]
     },
     "execution_count": 16,
     "metadata": {},
     "output_type": "execute_result"
    }
   ],
   "source": [
    "files_dict_array"
   ]
  },
  {
   "cell_type": "code",
   "execution_count": 9,
   "metadata": {},
   "outputs": [
    {
     "name": "stdout",
     "output_type": "stream",
     "text": [
      "First line \n",
      " Second line\n"
     ]
    }
   ],
   "source": [
    "print('First line \\n Second line')"
   ]
  },
  {
   "cell_type": "code",
   "execution_count": 9,
   "metadata": {},
   "outputs": [
    {
     "data": {
      "text/plain": [
       "(['matfile.m', 'manifest.qsc.yaml', 'random.txt'], ['sub1', 'sub2', 'sub3'])"
      ]
     },
     "execution_count": 9,
     "metadata": {},
     "output_type": "execute_result"
    }
   ],
   "source": [
    "qascade.files_and_folders(s,\"/container\")"
   ]
  },
  {
   "cell_type": "code",
   "execution_count": 8,
   "metadata": {
    "collapsed": true
   },
   "outputs": [
    {
     "data": {
      "text/plain": [
       "{'file_contents': {'container/manifest.qsc.yaml': 'Y29tbW9uX2E6IGIKY29tbW9uX2M6IDEyCmNvbW1vbl9kOiA1MAoKKG1hdGNoZXMgKi5tKToKICAgaXNNRmlsZTogdHJ1ZQoKKG1hdGNoZXMgKi50eHQpOgogICBpc3R4dEZpbGU6IHRydWUKCihtYXRjaGVzIHN1Ki8pOgogICBpc0RpcmVjdGx5VW5kZXJTdUZvbGRlcjogdHJ1ZQoKKG1hdGNoZXMgc3UqLyoqKToKICAgaXNBbnl3aGVyZVVuZGVyU3VGb2xkZXI6IHRydWUKCihtYXRjaGVzIGdyb3VwXyovKToKICAgaXNVbmRlckdyb3VwRm9sZGVyOiB0cnVlCgpjb21tb25fYXJyYXk6CiAgIC0gZmlyc3QKICAgLSBzZWNvbmQKCmNvbW1vbl9hOiBjCgp6LnkuejogOTkKCnM6CiAgZmllbGQxOiAxCiAgZmllbGQyOiAyCiAgZmllbGQzOiAzCiAgZmllbGQ0OiA0CgoodGFibGUpOiB8CiAgICAgICAobWF0Y2hlcykJa2V5MQlrZXkyCiAgICAgICAqLnR4dAkxMjAJdmFsdWUyCiAgICAgICAqLm0JMTAwMDAJdmFsdWUzCgoobm8tc3ViZGlyKToKICBvbmx5dG9wRm9sZGVyOiB0cnVlCiAgc2Vjb25kRm9sZGVyS2V5OiAyCiAgKG1hdGNoZXMgKi5tKToKICAgICBpc01GaWxlRnJvbU9ubHlUb3A6IHRydWUKICAodGFibGUpOiB8CiAgICAgICAobWF0Y2hlcykJZm9sZGVyb25seXRhYmxla2V5MQlmb2xkZXJvbmx5dGFibGVrZXkyIAogICAgICAgKi50eHQJOTkJZm9sZGVyb25seVZhbHVlMgogICAgICAgKi5tCTEwMDAwCWZvbGRlcm9ubHlWYWx1ZTMK',\n",
       "  'container/sub1/manifest.qsc.yaml': 'c3ViMV9hYTogYmIKY29tbW9uX2M6IGNvbW1vbl9jX292ZXJ3cml0ZQpzLmZpZWxkMTogCiAgIHN1YmZpZWxkOiA5OTk5CnMuZmllbGQzOiBzb21ldGV4dApzLmZpZWxkNC5zdWJmaWVsZDogdmFsdWUKY29tbW9uX2FycmF5Lm5ld2ZpZWxkOiAxCgoobWF0Y2hlcyAqLm0pOgogICAgIGlzTUZpbGVGcm9tU3ViRm9sZGVyOiB0cnVlCgoodGFibGUpOiB8CiAgICAobWF0Y2hlcykJcy5maWVsZDEJcy5maWVsZDUJaXNNRmlsZUZyb21UYWJsZQogICAgKi5tCWZyb21UYWJsZTEJZnJvbVRhYmxlNQl0cnVlCg==',\n",
       "  'container/sub2/manifest.qsc.yaml': 'c3ViMl9iYjogY2MKY29tbW9uX2M6IDUwMDAKY29tbW9uX2Q6IHRlc3QKCihuby1zdWJkaXIpOgogIG9ubHlzdWIyRm9sZGVyOiB0cnVlCiAgc2Vjb25kc3ViMkZvbGRlcktleTogMgo='},\n",
       " 'filenames': ['container/sub3/cfk.yaml',\n",
       "  'container/sub2/group_normal/index2.htm',\n",
       "  'container/sub2/index.html',\n",
       "  'container/sub2/manifest.qsc.yaml',\n",
       "  'container/sub1/calculate_density_significance_of_many_dipoles_script.m',\n",
       "  'container/sub1/manifest.qsc.yaml',\n",
       "  'container/matfile.m',\n",
       "  'container/manifest.qsc.yaml',\n",
       "  'container/random.txt',\n",
       "  'correct_read.yaml']}"
      ]
     },
     "execution_count": 8,
     "metadata": {},
     "output_type": "execute_result"
    }
   ],
   "source": [
    "s"
   ]
  },
  {
   "cell_type": "code",
   "execution_count": 11,
   "metadata": {},
   "outputs": [
    {
     "data": {
      "text/plain": [
       "[{'a': 1, 'b': 2}, {'c': 3, 'd': 4}]"
      ]
     },
     "execution_count": 11,
     "metadata": {},
     "output_type": "execute_result"
    }
   ],
   "source": [
    "[{'a':1, 'b':2}, {'c':3, 'd':4}]"
   ]
  },
  {
   "cell_type": "code",
   "execution_count": 13,
   "metadata": {},
   "outputs": [
    {
     "ename": "NameError",
     "evalue": "name 'Array' is not defined",
     "output_type": "error",
     "traceback": [
      "\u001b[0;31m---------------------------------------------------------------------------\u001b[0m",
      "\u001b[0;31mNameError\u001b[0m                                 Traceback (most recent call last)",
      "\u001b[0;32m<ipython-input-13-a2c2edfecf1b>\u001b[0m in \u001b[0;36m<module>\u001b[0;34m()\u001b[0m\n\u001b[0;32m----> 1\u001b[0;31m \u001b[0mArray\u001b[0m\u001b[0;34m(\u001b[0m\u001b[0;34m)\u001b[0m\u001b[0;34m\u001b[0m\u001b[0m\n\u001b[0m",
      "\u001b[0;31mNameError\u001b[0m: name 'Array' is not defined"
     ]
    }
   ],
   "source": [
    "Array()"
   ]
  },
  {
   "cell_type": "code",
   "execution_count": null,
   "metadata": {
    "collapsed": true
   },
   "outputs": [],
   "source": []
  }
 ],
 "metadata": {
  "kernelspec": {
   "display_name": "Python 3",
   "language": "python",
   "name": "python3"
  },
  "language_info": {
   "codemirror_mode": {
    "name": "ipython",
    "version": 3
   },
   "file_extension": ".py",
   "mimetype": "text/x-python",
   "name": "python",
   "nbconvert_exporter": "python",
   "pygments_lexer": "ipython3",
   "version": "3.4.3"
  }
 },
 "nbformat": 4,
 "nbformat_minor": 2
}
